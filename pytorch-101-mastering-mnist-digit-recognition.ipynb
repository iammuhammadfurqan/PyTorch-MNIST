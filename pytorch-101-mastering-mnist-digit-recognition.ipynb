{
 "cells": [
  {
   "cell_type": "markdown",
   "id": "c2da8825",
   "metadata": {
    "papermill": {
     "duration": 0.005825,
     "end_time": "2024-08-23T11:56:49.384602",
     "exception": false,
     "start_time": "2024-08-23T11:56:49.378777",
     "status": "completed"
    },
    "tags": []
   },
   "source": [
    "<p style=\"font-family: 'Brush Script MT', cursive; font-size: 80px; text-align: center; color: #4682B4;\">Digit Recognizer</p>\n"
   ]
  },
  {
   "cell_type": "markdown",
   "id": "c54bd921",
   "metadata": {
    "papermill": {
     "duration": 0.004936,
     "end_time": "2024-08-23T11:56:49.394909",
     "exception": false,
     "start_time": "2024-08-23T11:56:49.389973",
     "status": "completed"
    },
    "tags": []
   },
   "source": [
    "<p style=\"font-family: 'Brush Script MT', cursive; font-size: 40px; text-align: center; color: #4682B4;\">Author: Muhammad Furqan</p>\n"
   ]
  },
  {
   "cell_type": "markdown",
   "id": "fd85a628",
   "metadata": {
    "papermill": {
     "duration": 0.004944,
     "end_time": "2024-08-23T11:56:49.405173",
     "exception": false,
     "start_time": "2024-08-23T11:56:49.400229",
     "status": "completed"
    },
    "tags": []
   },
   "source": [
    "  [![GitHub](https://img.shields.io/badge/GitHub-Profile-blue?style=for-the-badge&logo=github)](https://github.com/iammuhammadfurqan)\n",
    "\n",
    "  [![Kaggle](https://img.shields.io/badge/Kaggle-Profile-blue?style=for-the-badge&logo=kaggle)](https://www.kaggle.com/muhammadfurqan0)\n",
    "\n",
    "  [![LinkedIn](https://img.shields.io/badge/LinkedIn-Profile-blue?style=for-the-badge&logo=linkedin)](https://www.linkedin.com/in/immuhammadfurqan/)\n",
    "\n",
    "  [![Gmail](https://img.shields.io/badge/Gmail-Contact%20Me-red?style=for-the-badge&logo=gmail)](mailto:sheikhfurqan048@gmail.com)"
   ]
  },
  {
   "cell_type": "markdown",
   "id": "7d02ed44",
   "metadata": {
    "papermill": {
     "duration": 0.004937,
     "end_time": "2024-08-23T11:56:49.415647",
     "exception": false,
     "start_time": "2024-08-23T11:56:49.410710",
     "status": "completed"
    },
    "tags": []
   },
   "source": [
    "***Note:***\n",
    "\n",
    "*Welcome to this beginner-friendly MNIST Notebook created with PyTorch! If you're new to PyTorch and want to understand its basic structure, this notebook is designed for you. We'll walk through the fundamental steps of building and training a neural network to recognize handwritten digits from the MNIST dataset. Whether you're just starting out or looking to strengthen your understanding of PyTorch, this notebook will provide a solid foundation.*\n",
    "\n",
    "**Happy learning!**"
   ]
  },
  {
   "cell_type": "markdown",
   "id": "c2fdcd01",
   "metadata": {
    "papermill": {
     "duration": 0.004878,
     "end_time": "2024-08-23T11:56:49.425697",
     "exception": false,
     "start_time": "2024-08-23T11:56:49.420819",
     "status": "completed"
    },
    "tags": []
   },
   "source": [
    "<p style=\"font-family: 'Brush Script MT', cursive; font-size: 80px; text-align: center; color: #4682B4;\">Import the Libraries</p>\n"
   ]
  },
  {
   "cell_type": "code",
   "execution_count": 1,
   "id": "6cf112bc",
   "metadata": {
    "execution": {
     "iopub.execute_input": "2024-08-23T11:56:49.437944Z",
     "iopub.status.busy": "2024-08-23T11:56:49.437500Z",
     "iopub.status.idle": "2024-08-23T11:56:54.652532Z",
     "shell.execute_reply": "2024-08-23T11:56:54.651456Z"
    },
    "papermill": {
     "duration": 5.224313,
     "end_time": "2024-08-23T11:56:54.655187",
     "exception": false,
     "start_time": "2024-08-23T11:56:49.430874",
     "status": "completed"
    },
    "tags": []
   },
   "outputs": [],
   "source": [
    "import torch\n",
    "import torchvision\n",
    "import torchvision.transforms as transforms\n",
    "from torchvision.transforms import ToTensor\n",
    "from torch.utils.data import DataLoader, TensorDataset\n",
    "from torchvision.utils import make_grid\n",
    "from torchvision import datasets\n",
    "\n",
    "#neural net imports\n",
    "import torch.nn as nn\n",
    "import torch.nn.functional as F\n",
    "import torch.optim as optim\n",
    "from torch.autograd import Variable"
   ]
  },
  {
   "cell_type": "code",
   "execution_count": 2,
   "id": "2581a80f",
   "metadata": {
    "execution": {
     "iopub.execute_input": "2024-08-23T11:56:54.668326Z",
     "iopub.status.busy": "2024-08-23T11:56:54.667546Z",
     "iopub.status.idle": "2024-08-23T11:56:56.886186Z",
     "shell.execute_reply": "2024-08-23T11:56:56.885142Z"
    },
    "papermill": {
     "duration": 2.227899,
     "end_time": "2024-08-23T11:56:56.888610",
     "exception": false,
     "start_time": "2024-08-23T11:56:54.660711",
     "status": "completed"
    },
    "tags": []
   },
   "outputs": [],
   "source": [
    "#import external libraries\n",
    "import pandas as pd\n",
    "import numpy as np\n",
    "import matplotlib.pyplot as plt\n",
    "from sklearn.model_selection import train_test_split\n",
    "import os\n",
    "import math\n",
    "%matplotlib inline"
   ]
  },
  {
   "cell_type": "markdown",
   "id": "ba2ae6af",
   "metadata": {
    "papermill": {
     "duration": 0.005058,
     "end_time": "2024-08-23T11:56:56.899205",
     "exception": false,
     "start_time": "2024-08-23T11:56:56.894147",
     "status": "completed"
    },
    "tags": []
   },
   "source": [
    "<p style=\"font-family: 'Brush Script MT', cursive; font-size: 80px; text-align: center; color: #4682B4;\">Spliting the Data</p>\n"
   ]
  },
  {
   "cell_type": "code",
   "execution_count": 3,
   "id": "f42455a8",
   "metadata": {
    "execution": {
     "iopub.execute_input": "2024-08-23T11:56:56.911748Z",
     "iopub.status.busy": "2024-08-23T11:56:56.911191Z",
     "iopub.status.idle": "2024-08-23T11:57:03.892524Z",
     "shell.execute_reply": "2024-08-23T11:57:03.891139Z"
    },
    "papermill": {
     "duration": 6.990928,
     "end_time": "2024-08-23T11:57:03.895518",
     "exception": false,
     "start_time": "2024-08-23T11:56:56.904590",
     "status": "completed"
    },
    "tags": []
   },
   "outputs": [
    {
     "name": "stdout",
     "output_type": "stream",
     "text": [
      "Downloading http://yann.lecun.com/exdb/mnist/train-images-idx3-ubyte.gz\n",
      "Failed to download (trying next):\n",
      "HTTP Error 403: Forbidden\n",
      "\n",
      "Downloading https://ossci-datasets.s3.amazonaws.com/mnist/train-images-idx3-ubyte.gz\n",
      "Downloading https://ossci-datasets.s3.amazonaws.com/mnist/train-images-idx3-ubyte.gz to data/MNIST/raw/train-images-idx3-ubyte.gz\n"
     ]
    },
    {
     "name": "stderr",
     "output_type": "stream",
     "text": [
      "100%|██████████| 9912422/9912422 [00:00<00:00, 11505783.44it/s]\n"
     ]
    },
    {
     "name": "stdout",
     "output_type": "stream",
     "text": [
      "Extracting data/MNIST/raw/train-images-idx3-ubyte.gz to data/MNIST/raw\n",
      "\n",
      "Downloading http://yann.lecun.com/exdb/mnist/train-labels-idx1-ubyte.gz\n",
      "Failed to download (trying next):\n",
      "HTTP Error 403: Forbidden\n",
      "\n",
      "Downloading https://ossci-datasets.s3.amazonaws.com/mnist/train-labels-idx1-ubyte.gz\n",
      "Downloading https://ossci-datasets.s3.amazonaws.com/mnist/train-labels-idx1-ubyte.gz to data/MNIST/raw/train-labels-idx1-ubyte.gz\n"
     ]
    },
    {
     "name": "stderr",
     "output_type": "stream",
     "text": [
      "100%|██████████| 28881/28881 [00:00<00:00, 314533.59it/s]\n"
     ]
    },
    {
     "name": "stdout",
     "output_type": "stream",
     "text": [
      "Extracting data/MNIST/raw/train-labels-idx1-ubyte.gz to data/MNIST/raw\n",
      "\n",
      "Downloading http://yann.lecun.com/exdb/mnist/t10k-images-idx3-ubyte.gz\n",
      "Failed to download (trying next):\n",
      "HTTP Error 403: Forbidden\n",
      "\n",
      "Downloading https://ossci-datasets.s3.amazonaws.com/mnist/t10k-images-idx3-ubyte.gz\n",
      "Downloading https://ossci-datasets.s3.amazonaws.com/mnist/t10k-images-idx3-ubyte.gz to data/MNIST/raw/t10k-images-idx3-ubyte.gz\n"
     ]
    },
    {
     "name": "stderr",
     "output_type": "stream",
     "text": [
      "100%|██████████| 1648877/1648877 [00:00<00:00, 2915959.27it/s]\n"
     ]
    },
    {
     "name": "stdout",
     "output_type": "stream",
     "text": [
      "Extracting data/MNIST/raw/t10k-images-idx3-ubyte.gz to data/MNIST/raw\n",
      "\n",
      "Downloading http://yann.lecun.com/exdb/mnist/t10k-labels-idx1-ubyte.gz\n",
      "Failed to download (trying next):\n",
      "HTTP Error 403: Forbidden\n",
      "\n",
      "Downloading https://ossci-datasets.s3.amazonaws.com/mnist/t10k-labels-idx1-ubyte.gz\n",
      "Downloading https://ossci-datasets.s3.amazonaws.com/mnist/t10k-labels-idx1-ubyte.gz to data/MNIST/raw/t10k-labels-idx1-ubyte.gz\n"
     ]
    },
    {
     "name": "stderr",
     "output_type": "stream",
     "text": [
      "100%|██████████| 4542/4542 [00:00<00:00, 1897085.12it/s]"
     ]
    },
    {
     "name": "stdout",
     "output_type": "stream",
     "text": [
      "Extracting data/MNIST/raw/t10k-labels-idx1-ubyte.gz to data/MNIST/raw\n",
      "\n"
     ]
    },
    {
     "name": "stderr",
     "output_type": "stream",
     "text": [
      "\n"
     ]
    }
   ],
   "source": [
    "train_data = datasets.MNIST(\n",
    "    root = 'data',\n",
    "    train = True,\n",
    "    transform = ToTensor(),\n",
    "    download = True\n",
    ")\n",
    "test_data = datasets.MNIST(\n",
    "    root = 'data',\n",
    "    train = False,\n",
    "    transform = ToTensor(),\n",
    "    download = True\n",
    ")"
   ]
  },
  {
   "cell_type": "code",
   "execution_count": 4,
   "id": "ad5bedc2",
   "metadata": {
    "execution": {
     "iopub.execute_input": "2024-08-23T11:57:03.912911Z",
     "iopub.status.busy": "2024-08-23T11:57:03.912511Z",
     "iopub.status.idle": "2024-08-23T11:57:03.920119Z",
     "shell.execute_reply": "2024-08-23T11:57:03.919099Z"
    },
    "papermill": {
     "duration": 0.018669,
     "end_time": "2024-08-23T11:57:03.922397",
     "exception": false,
     "start_time": "2024-08-23T11:57:03.903728",
     "status": "completed"
    },
    "tags": []
   },
   "outputs": [
    {
     "data": {
      "text/plain": [
       "Dataset MNIST\n",
       "    Number of datapoints: 60000\n",
       "    Root location: data\n",
       "    Split: Train\n",
       "    StandardTransform\n",
       "Transform: ToTensor()"
      ]
     },
     "execution_count": 4,
     "metadata": {},
     "output_type": "execute_result"
    }
   ],
   "source": [
    "train_data"
   ]
  },
  {
   "cell_type": "code",
   "execution_count": 5,
   "id": "81be4937",
   "metadata": {
    "execution": {
     "iopub.execute_input": "2024-08-23T11:57:03.940024Z",
     "iopub.status.busy": "2024-08-23T11:57:03.939649Z",
     "iopub.status.idle": "2024-08-23T11:57:03.947635Z",
     "shell.execute_reply": "2024-08-23T11:57:03.946550Z"
    },
    "papermill": {
     "duration": 0.019529,
     "end_time": "2024-08-23T11:57:03.950017",
     "exception": false,
     "start_time": "2024-08-23T11:57:03.930488",
     "status": "completed"
    },
    "tags": []
   },
   "outputs": [
    {
     "data": {
      "text/plain": [
       "Dataset MNIST\n",
       "    Number of datapoints: 10000\n",
       "    Root location: data\n",
       "    Split: Test\n",
       "    StandardTransform\n",
       "Transform: ToTensor()"
      ]
     },
     "execution_count": 5,
     "metadata": {},
     "output_type": "execute_result"
    }
   ],
   "source": [
    "test_data"
   ]
  },
  {
   "cell_type": "code",
   "execution_count": 6,
   "id": "1329e925",
   "metadata": {
    "execution": {
     "iopub.execute_input": "2024-08-23T11:57:03.967548Z",
     "iopub.status.busy": "2024-08-23T11:57:03.967173Z",
     "iopub.status.idle": "2024-08-23T11:57:03.974260Z",
     "shell.execute_reply": "2024-08-23T11:57:03.973182Z"
    },
    "papermill": {
     "duration": 0.018447,
     "end_time": "2024-08-23T11:57:03.976457",
     "exception": false,
     "start_time": "2024-08-23T11:57:03.958010",
     "status": "completed"
    },
    "tags": []
   },
   "outputs": [
    {
     "data": {
      "text/plain": [
       "torch.Size([60000, 28, 28])"
      ]
     },
     "execution_count": 6,
     "metadata": {},
     "output_type": "execute_result"
    }
   ],
   "source": [
    "train_data.data.shape"
   ]
  },
  {
   "cell_type": "code",
   "execution_count": 7,
   "id": "bf4bb9d2",
   "metadata": {
    "execution": {
     "iopub.execute_input": "2024-08-23T11:57:03.994582Z",
     "iopub.status.busy": "2024-08-23T11:57:03.994222Z",
     "iopub.status.idle": "2024-08-23T11:57:04.002384Z",
     "shell.execute_reply": "2024-08-23T11:57:04.001158Z"
    },
    "papermill": {
     "duration": 0.019502,
     "end_time": "2024-08-23T11:57:04.004643",
     "exception": false,
     "start_time": "2024-08-23T11:57:03.985141",
     "status": "completed"
    },
    "tags": []
   },
   "outputs": [
    {
     "data": {
      "text/plain": [
       "torch.Size([60000])"
      ]
     },
     "execution_count": 7,
     "metadata": {},
     "output_type": "execute_result"
    }
   ],
   "source": [
    "train_data.targets.size()"
   ]
  },
  {
   "cell_type": "code",
   "execution_count": 8,
   "id": "3495b219",
   "metadata": {
    "execution": {
     "iopub.execute_input": "2024-08-23T11:57:04.022522Z",
     "iopub.status.busy": "2024-08-23T11:57:04.022154Z",
     "iopub.status.idle": "2024-08-23T11:57:04.057267Z",
     "shell.execute_reply": "2024-08-23T11:57:04.056126Z"
    },
    "papermill": {
     "duration": 0.046785,
     "end_time": "2024-08-23T11:57:04.059597",
     "exception": false,
     "start_time": "2024-08-23T11:57:04.012812",
     "status": "completed"
    },
    "tags": []
   },
   "outputs": [
    {
     "data": {
      "text/plain": [
       "tensor([5, 0, 4,  ..., 5, 6, 8])"
      ]
     },
     "execution_count": 8,
     "metadata": {},
     "output_type": "execute_result"
    }
   ],
   "source": [
    "train_data.targets"
   ]
  },
  {
   "cell_type": "markdown",
   "id": "a921697e",
   "metadata": {
    "papermill": {
     "duration": 0.007755,
     "end_time": "2024-08-23T11:57:04.075545",
     "exception": false,
     "start_time": "2024-08-23T11:57:04.067790",
     "status": "completed"
    },
    "tags": []
   },
   "source": [
    "<p style=\"font-family: 'Brush Script MT', cursive; font-size: 80px; text-align: center; color: #4682B4;\">Data Loader</p>\n"
   ]
  },
  {
   "cell_type": "code",
   "execution_count": 9,
   "id": "e419b959",
   "metadata": {
    "execution": {
     "iopub.execute_input": "2024-08-23T11:57:04.093531Z",
     "iopub.status.busy": "2024-08-23T11:57:04.093122Z",
     "iopub.status.idle": "2024-08-23T11:57:04.099162Z",
     "shell.execute_reply": "2024-08-23T11:57:04.098089Z"
    },
    "papermill": {
     "duration": 0.01766,
     "end_time": "2024-08-23T11:57:04.101283",
     "exception": false,
     "start_time": "2024-08-23T11:57:04.083623",
     "status": "completed"
    },
    "tags": []
   },
   "outputs": [],
   "source": [
    "loader = {\n",
    "    'train': DataLoader(train_data,\n",
    "                        batch_size = 100,\n",
    "                        shuffle = True,\n",
    "                        num_workers = 1,\n",
    "    ),\n",
    "    'test': DataLoader(test_data,\n",
    "                        batch_size = 100,\n",
    "                        shuffle = True,\n",
    "                        num_workers = 1,\n",
    "    )\n",
    "}"
   ]
  },
  {
   "cell_type": "markdown",
   "id": "5a2bdf71",
   "metadata": {
    "papermill": {
     "duration": 0.007976,
     "end_time": "2024-08-23T11:57:04.117594",
     "exception": false,
     "start_time": "2024-08-23T11:57:04.109618",
     "status": "completed"
    },
    "tags": []
   },
   "source": [
    "<p style=\"font-family: 'Brush Script MT', cursive; font-size: 80px; text-align: center; color: #4682B4;\">Model</p>\n"
   ]
  },
  {
   "cell_type": "code",
   "execution_count": 10,
   "id": "04ae9fcd",
   "metadata": {
    "execution": {
     "iopub.execute_input": "2024-08-23T11:57:04.135515Z",
     "iopub.status.busy": "2024-08-23T11:57:04.135114Z",
     "iopub.status.idle": "2024-08-23T11:57:04.143009Z",
     "shell.execute_reply": "2024-08-23T11:57:04.142004Z"
    },
    "papermill": {
     "duration": 0.019451,
     "end_time": "2024-08-23T11:57:04.145175",
     "exception": false,
     "start_time": "2024-08-23T11:57:04.125724",
     "status": "completed"
    },
    "tags": []
   },
   "outputs": [],
   "source": [
    "class CNN(nn.Module):\n",
    "    \n",
    "    def __init__(self):\n",
    "        super(CNN, self).__init__()\n",
    "        \n",
    "        self.conv1 = nn.Conv2d(1,10, kernel_size=5)\n",
    "        self.conv2 = nn.Conv2d(10,20, kernel_size=5)\n",
    "        self.drop1 = nn.Dropout2d()\n",
    "        self.fc1 = nn.Linear(320,50)\n",
    "        self.fc2 = nn.Linear(50,10)\n",
    "        \n",
    "    def forward(self, x):\n",
    "        x = F.relu(F.max_pool2d(self.conv1(x),2))\n",
    "        x = F.relu(F.max_pool2d(self.drop1(self.conv2(x)),2))\n",
    "        x = x.view(-1,320)\n",
    "        x = F.relu(self.fc1(x))\n",
    "        x = F.dropout(x, training= self.training)\n",
    "        x = self.fc2(x)\n",
    "        \n",
    "        return F.softmax(x)\n",
    "        "
   ]
  },
  {
   "cell_type": "markdown",
   "id": "c16c8d67",
   "metadata": {
    "papermill": {
     "duration": 0.007818,
     "end_time": "2024-08-23T11:57:04.161213",
     "exception": false,
     "start_time": "2024-08-23T11:57:04.153395",
     "status": "completed"
    },
    "tags": []
   },
   "source": [
    "<p style=\"font-family: 'Brush Script MT', cursive; font-size: 80px; text-align: center; color: #4682B4;\">Train and Test Split</p>\n"
   ]
  },
  {
   "cell_type": "code",
   "execution_count": 11,
   "id": "f1a433d4",
   "metadata": {
    "execution": {
     "iopub.execute_input": "2024-08-23T11:57:04.179044Z",
     "iopub.status.busy": "2024-08-23T11:57:04.178634Z",
     "iopub.status.idle": "2024-08-23T11:57:04.200184Z",
     "shell.execute_reply": "2024-08-23T11:57:04.199241Z"
    },
    "papermill": {
     "duration": 0.033424,
     "end_time": "2024-08-23T11:57:04.202697",
     "exception": false,
     "start_time": "2024-08-23T11:57:04.169273",
     "status": "completed"
    },
    "tags": []
   },
   "outputs": [],
   "source": [
    "\n",
    "device = torch.device(\"cuda\" if torch.cuda.is_available() else 'cpu')\n",
    "model = CNN().to(device)\n",
    "\n",
    "optimizer = optim.Adam(model.parameters(), lr=0.001)\n",
    "loss_fn = nn.CrossEntropyLoss()\n",
    "\n",
    "def train(epoch):\n",
    "    model.train()\n",
    "    for batch_idx, (data, target) in enumerate(loader['train']):\n",
    "        data, target = data.to(device), target.to(device)\n",
    "        optimizer.zero_grad()\n",
    "        output = model(data)\n",
    "        loss = loss_fn(output, target)\n",
    "        loss.backward()\n",
    "        optimizer.step()\n",
    "        if batch_idx %20 == 0:\n",
    "            print(f\"Train Epoch: {epoch} [{batch_idx * len(data)}/ {len(loader['train'].dataset)} ({100. * batch_idx/ len(loader['train']):.0f}%)]\\t{loss.item():.6f}\")\n",
    "\n",
    "def test():\n",
    "    model.eval()\n",
    "    test_loss = 0\n",
    "    correct = 0\n",
    "    \n",
    "    with torch.no_grad():\n",
    "        for data, target in loader['test']:\n",
    "            data, target = data.to(device), target.to(device)\n",
    "            output = model(data)\n",
    "            test_loss += loss_fn(output, target).item()\n",
    "            pred = output.argmax(dim =1, keepdim = True)\n",
    "            correct += pred.eq(target.view_as(pred)).sum().item()\n",
    "    \n",
    "    test_loss /= len(loader['test'].dataset)\n",
    "    print(f'\\nTest Set: Average loss: {test_loss:.4f}, Accuracy {correct}/{len(loader[\"test\"].dataset)} ({100 * correct / len(loader[\"test\"].dataset):.0f}%)\\n')"
   ]
  },
  {
   "cell_type": "code",
   "execution_count": 12,
   "id": "f1f98cb5",
   "metadata": {
    "execution": {
     "iopub.execute_input": "2024-08-23T11:57:04.223775Z",
     "iopub.status.busy": "2024-08-23T11:57:04.223316Z",
     "iopub.status.idle": "2024-08-23T11:58:08.630152Z",
     "shell.execute_reply": "2024-08-23T11:58:08.628688Z"
    },
    "papermill": {
     "duration": 64.421157,
     "end_time": "2024-08-23T11:58:08.632744",
     "exception": false,
     "start_time": "2024-08-23T11:57:04.211587",
     "status": "completed"
    },
    "tags": []
   },
   "outputs": [
    {
     "name": "stderr",
     "output_type": "stream",
     "text": [
      "/tmp/ipykernel_18/424195984.py:20: UserWarning: Implicit dimension choice for softmax has been deprecated. Change the call to include dim=X as an argument.\n",
      "  return F.softmax(x)\n"
     ]
    },
    {
     "name": "stdout",
     "output_type": "stream",
     "text": [
      "Train Epoch: 1 [0/ 60000 (0%)]\t2.303433\n",
      "Train Epoch: 1 [2000/ 60000 (3%)]\t2.293191\n",
      "Train Epoch: 1 [4000/ 60000 (7%)]\t2.247858\n",
      "Train Epoch: 1 [6000/ 60000 (10%)]\t2.069777\n",
      "Train Epoch: 1 [8000/ 60000 (13%)]\t2.003441\n",
      "Train Epoch: 1 [10000/ 60000 (17%)]\t1.864663\n",
      "Train Epoch: 1 [12000/ 60000 (20%)]\t1.882486\n",
      "Train Epoch: 1 [14000/ 60000 (23%)]\t1.770719\n",
      "Train Epoch: 1 [16000/ 60000 (27%)]\t1.730758\n",
      "Train Epoch: 1 [18000/ 60000 (30%)]\t1.726472\n",
      "Train Epoch: 1 [20000/ 60000 (33%)]\t1.729823\n",
      "Train Epoch: 1 [22000/ 60000 (37%)]\t1.709915\n",
      "Train Epoch: 1 [24000/ 60000 (40%)]\t1.676029\n",
      "Train Epoch: 1 [26000/ 60000 (43%)]\t1.636015\n",
      "Train Epoch: 1 [28000/ 60000 (47%)]\t1.681683\n",
      "Train Epoch: 1 [30000/ 60000 (50%)]\t1.656820\n",
      "Train Epoch: 1 [32000/ 60000 (53%)]\t1.674175\n",
      "Train Epoch: 1 [34000/ 60000 (57%)]\t1.608043\n",
      "Train Epoch: 1 [36000/ 60000 (60%)]\t1.653156\n",
      "Train Epoch: 1 [38000/ 60000 (63%)]\t1.646342\n",
      "Train Epoch: 1 [40000/ 60000 (67%)]\t1.633841\n",
      "Train Epoch: 1 [42000/ 60000 (70%)]\t1.602354\n",
      "Train Epoch: 1 [44000/ 60000 (73%)]\t1.637758\n",
      "Train Epoch: 1 [46000/ 60000 (77%)]\t1.668896\n",
      "Train Epoch: 1 [48000/ 60000 (80%)]\t1.612956\n",
      "Train Epoch: 1 [50000/ 60000 (83%)]\t1.590695\n",
      "Train Epoch: 1 [52000/ 60000 (87%)]\t1.544812\n",
      "Train Epoch: 1 [54000/ 60000 (90%)]\t1.619552\n",
      "Train Epoch: 1 [56000/ 60000 (93%)]\t1.607844\n",
      "Train Epoch: 1 [58000/ 60000 (97%)]\t1.576838\n",
      "\n",
      "Test Set: Average loss: 0.0153, Accuracy 9384/10000 (94%)\n",
      "\n",
      "Train Epoch: 2 [0/ 60000 (0%)]\t1.584202\n",
      "Train Epoch: 2 [2000/ 60000 (3%)]\t1.575594\n",
      "Train Epoch: 2 [4000/ 60000 (7%)]\t1.660630\n",
      "Train Epoch: 2 [6000/ 60000 (10%)]\t1.620629\n",
      "Train Epoch: 2 [8000/ 60000 (13%)]\t1.629756\n",
      "Train Epoch: 2 [10000/ 60000 (17%)]\t1.622563\n",
      "Train Epoch: 2 [12000/ 60000 (20%)]\t1.564866\n",
      "Train Epoch: 2 [14000/ 60000 (23%)]\t1.604896\n",
      "Train Epoch: 2 [16000/ 60000 (27%)]\t1.611969\n",
      "Train Epoch: 2 [18000/ 60000 (30%)]\t1.605302\n",
      "Train Epoch: 2 [20000/ 60000 (33%)]\t1.592463\n",
      "Train Epoch: 2 [22000/ 60000 (37%)]\t1.568872\n",
      "Train Epoch: 2 [24000/ 60000 (40%)]\t1.637400\n",
      "Train Epoch: 2 [26000/ 60000 (43%)]\t1.557452\n",
      "Train Epoch: 2 [28000/ 60000 (47%)]\t1.605480\n",
      "Train Epoch: 2 [30000/ 60000 (50%)]\t1.575207\n",
      "Train Epoch: 2 [32000/ 60000 (53%)]\t1.607730\n",
      "Train Epoch: 2 [34000/ 60000 (57%)]\t1.592093\n",
      "Train Epoch: 2 [36000/ 60000 (60%)]\t1.575634\n",
      "Train Epoch: 2 [38000/ 60000 (63%)]\t1.596002\n",
      "Train Epoch: 2 [40000/ 60000 (67%)]\t1.566219\n",
      "Train Epoch: 2 [42000/ 60000 (70%)]\t1.571423\n",
      "Train Epoch: 2 [44000/ 60000 (73%)]\t1.555187\n",
      "Train Epoch: 2 [46000/ 60000 (77%)]\t1.553297\n",
      "Train Epoch: 2 [48000/ 60000 (80%)]\t1.593960\n",
      "Train Epoch: 2 [50000/ 60000 (83%)]\t1.664939\n",
      "Train Epoch: 2 [52000/ 60000 (87%)]\t1.566057\n",
      "Train Epoch: 2 [54000/ 60000 (90%)]\t1.571556\n",
      "Train Epoch: 2 [56000/ 60000 (93%)]\t1.569939\n",
      "Train Epoch: 2 [58000/ 60000 (97%)]\t1.550747\n",
      "\n",
      "Test Set: Average loss: 0.0151, Accuracy 9552/10000 (96%)\n",
      "\n",
      "Train Epoch: 3 [0/ 60000 (0%)]\t1.593798\n",
      "Train Epoch: 3 [2000/ 60000 (3%)]\t1.581663\n",
      "Train Epoch: 3 [4000/ 60000 (7%)]\t1.610659\n",
      "Train Epoch: 3 [6000/ 60000 (10%)]\t1.600737\n",
      "Train Epoch: 3 [8000/ 60000 (13%)]\t1.557831\n",
      "Train Epoch: 3 [10000/ 60000 (17%)]\t1.537906\n",
      "Train Epoch: 3 [12000/ 60000 (20%)]\t1.657923\n",
      "Train Epoch: 3 [14000/ 60000 (23%)]\t1.544909\n",
      "Train Epoch: 3 [16000/ 60000 (27%)]\t1.554380\n",
      "Train Epoch: 3 [18000/ 60000 (30%)]\t1.567991\n",
      "Train Epoch: 3 [20000/ 60000 (33%)]\t1.536501\n",
      "Train Epoch: 3 [22000/ 60000 (37%)]\t1.574794\n",
      "Train Epoch: 3 [24000/ 60000 (40%)]\t1.495556\n",
      "Train Epoch: 3 [26000/ 60000 (43%)]\t1.566267\n",
      "Train Epoch: 3 [28000/ 60000 (47%)]\t1.571089\n",
      "Train Epoch: 3 [30000/ 60000 (50%)]\t1.571603\n",
      "Train Epoch: 3 [32000/ 60000 (53%)]\t1.536840\n",
      "Train Epoch: 3 [34000/ 60000 (57%)]\t1.572150\n",
      "Train Epoch: 3 [36000/ 60000 (60%)]\t1.600917\n",
      "Train Epoch: 3 [38000/ 60000 (63%)]\t1.529648\n",
      "Train Epoch: 3 [40000/ 60000 (67%)]\t1.523590\n",
      "Train Epoch: 3 [42000/ 60000 (70%)]\t1.529786\n",
      "Train Epoch: 3 [44000/ 60000 (73%)]\t1.533203\n",
      "Train Epoch: 3 [46000/ 60000 (77%)]\t1.558717\n",
      "Train Epoch: 3 [48000/ 60000 (80%)]\t1.568927\n",
      "Train Epoch: 3 [50000/ 60000 (83%)]\t1.562837\n",
      "Train Epoch: 3 [52000/ 60000 (87%)]\t1.565946\n",
      "Train Epoch: 3 [54000/ 60000 (90%)]\t1.545371\n",
      "Train Epoch: 3 [56000/ 60000 (93%)]\t1.575920\n",
      "Train Epoch: 3 [58000/ 60000 (97%)]\t1.568138\n",
      "\n",
      "Test Set: Average loss: 0.0150, Accuracy 9619/10000 (96%)\n",
      "\n",
      "Train Epoch: 4 [0/ 60000 (0%)]\t1.566751\n",
      "Train Epoch: 4 [2000/ 60000 (3%)]\t1.591371\n",
      "Train Epoch: 4 [4000/ 60000 (7%)]\t1.520914\n",
      "Train Epoch: 4 [6000/ 60000 (10%)]\t1.520046\n",
      "Train Epoch: 4 [8000/ 60000 (13%)]\t1.533300\n",
      "Train Epoch: 4 [10000/ 60000 (17%)]\t1.546967\n",
      "Train Epoch: 4 [12000/ 60000 (20%)]\t1.568003\n",
      "Train Epoch: 4 [14000/ 60000 (23%)]\t1.520190\n",
      "Train Epoch: 4 [16000/ 60000 (27%)]\t1.554398\n",
      "Train Epoch: 4 [18000/ 60000 (30%)]\t1.524680\n",
      "Train Epoch: 4 [20000/ 60000 (33%)]\t1.545334\n",
      "Train Epoch: 4 [22000/ 60000 (37%)]\t1.578146\n",
      "Train Epoch: 4 [24000/ 60000 (40%)]\t1.574736\n",
      "Train Epoch: 4 [26000/ 60000 (43%)]\t1.549293\n",
      "Train Epoch: 4 [28000/ 60000 (47%)]\t1.562561\n",
      "Train Epoch: 4 [30000/ 60000 (50%)]\t1.563101\n",
      "Train Epoch: 4 [32000/ 60000 (53%)]\t1.520598\n",
      "Train Epoch: 4 [34000/ 60000 (57%)]\t1.524620\n",
      "Train Epoch: 4 [36000/ 60000 (60%)]\t1.551833\n",
      "Train Epoch: 4 [38000/ 60000 (63%)]\t1.506220\n",
      "Train Epoch: 4 [40000/ 60000 (67%)]\t1.571660\n",
      "Train Epoch: 4 [42000/ 60000 (70%)]\t1.570742\n",
      "Train Epoch: 4 [44000/ 60000 (73%)]\t1.531834\n",
      "Train Epoch: 4 [46000/ 60000 (77%)]\t1.531802\n",
      "Train Epoch: 4 [48000/ 60000 (80%)]\t1.581383\n",
      "Train Epoch: 4 [50000/ 60000 (83%)]\t1.525636\n",
      "Train Epoch: 4 [52000/ 60000 (87%)]\t1.533847\n",
      "Train Epoch: 4 [54000/ 60000 (90%)]\t1.561440\n",
      "Train Epoch: 4 [56000/ 60000 (93%)]\t1.493940\n",
      "Train Epoch: 4 [58000/ 60000 (97%)]\t1.550076\n",
      "\n",
      "Test Set: Average loss: 0.0150, Accuracy 9663/10000 (97%)\n",
      "\n"
     ]
    }
   ],
   "source": [
    "for epoch in range(1,5):\n",
    "    train(epoch)\n",
    "    test()"
   ]
  },
  {
   "cell_type": "markdown",
   "id": "aa8dfa87",
   "metadata": {
    "papermill": {
     "duration": 0.01558,
     "end_time": "2024-08-23T11:58:08.664351",
     "exception": false,
     "start_time": "2024-08-23T11:58:08.648771",
     "status": "completed"
    },
    "tags": []
   },
   "source": [
    "<p style=\"font-family: 'Brush Script MT', cursive; font-size: 80px; text-align: center; color: #4682B4;\">Prediction</p>\n"
   ]
  },
  {
   "cell_type": "code",
   "execution_count": 13,
   "id": "425a835e",
   "metadata": {
    "execution": {
     "iopub.execute_input": "2024-08-23T11:58:08.698091Z",
     "iopub.status.busy": "2024-08-23T11:58:08.697663Z",
     "iopub.status.idle": "2024-08-23T11:58:09.374007Z",
     "shell.execute_reply": "2024-08-23T11:58:09.372638Z"
    },
    "papermill": {
     "duration": 0.696289,
     "end_time": "2024-08-23T11:58:09.376625",
     "exception": false,
     "start_time": "2024-08-23T11:58:08.680336",
     "status": "completed"
    },
    "tags": []
   },
   "outputs": [
    {
     "name": "stdout",
     "output_type": "stream",
     "text": [
      "Prediction for index 10: 0\n"
     ]
    },
    {
     "name": "stderr",
     "output_type": "stream",
     "text": [
      "/tmp/ipykernel_18/424195984.py:20: UserWarning: Implicit dimension choice for softmax has been deprecated. Change the call to include dim=X as an argument.\n",
      "  return F.softmax(x)\n"
     ]
    },
    {
     "data": {
      "image/png": "[encoded data removed]",
      "text/plain": [
       "<Figure size 640x480 with 1 Axes>"
      ]
     },
     "metadata": {},
     "output_type": "display_data"
    },
    {
     "name": "stdout",
     "output_type": "stream",
     "text": [
      "Prediction for index 15: 5\n"
     ]
    },
    {
     "data": {
      "image/png": "[encoded data removed]",
      "text/plain": [
       "<Figure size 640x480 with 1 Axes>"
      ]
     },
     "metadata": {},
     "output_type": "display_data"
    },
    {
     "name": "stdout",
     "output_type": "stream",
     "text": [
      "Prediction for index 20: 9\n"
     ]
    },
    {
     "data": {
      "image/png": "[encoded data removed]",
      "text/plain": [
       "<Figure size 640x480 with 1 Axes>"
      ]
     },
     "metadata": {},
     "output_type": "display_data"
    }
   ],
   "source": [
    "import matplotlib.pyplot as plt\n",
    "\n",
    "model.eval()\n",
    "\n",
    "# List of indices for the test samples you want to predict\n",
    "indices = [10, 15, 20]  # Add more indices as needed\n",
    "\n",
    "for idx in indices:\n",
    "    data, target = test_data[idx]\n",
    "    \n",
    "    # Prepare the data for the model\n",
    "    data = data.unsqueeze(0).to(device)\n",
    "    \n",
    "    # Get the model's output\n",
    "    output = model(data)\n",
    "    \n",
    "    # Get the predicted label\n",
    "    prediction = output.argmax(dim=1, keepdim=True).item()\n",
    "    \n",
    "    print(f\"Prediction for index {idx}: {prediction}\")\n",
    "    \n",
    "    # Convert the image data back to a format suitable for plotting\n",
    "    image = data.squeeze(0).squeeze(0).cpu().numpy()\n",
    "    \n",
    "    # Display the image\n",
    "    plt.imshow(image, cmap='gray')\n",
    "    plt.title(f\"Prediction: {prediction}\")\n",
    "    plt.show()\n"
   ]
  },
  {
   "cell_type": "code",
   "execution_count": null,
   "id": "bea4b761",
   "metadata": {
    "papermill": {
     "duration": 0.016755,
     "end_time": "2024-08-23T11:58:09.410620",
     "exception": false,
     "start_time": "2024-08-23T11:58:09.393865",
     "status": "completed"
    },
    "tags": []
   },
   "outputs": [],
   "source": []
  }
 ],
 "metadata": {
  "kaggle": {
   "accelerator": "none",
   "dataSources": [
    {
     "databundleVersionId": 861823,
     "sourceId": 3004,
     "sourceType": "competition"
    }
   ],
   "dockerImageVersionId": 30732,
   "isGpuEnabled": false,
   "isInternetEnabled": true,
   "language": "python",
   "sourceType": "notebook"
  },
  "kernelspec": {
   "display_name": "Python 3",
   "language": "python",
   "name": "python3"
  },
  "language_info": {
   "codemirror_mode": {
    "name": "ipython",
    "version": 3
   },
   "file_extension": ".py",
   "mimetype": "text/x-python",
   "name": "python",
   "nbconvert_exporter": "python",
   "pygments_lexer": "ipython3",
   "version": "3.10.13"
  },
  "papermill": {
   "default_parameters": {},
   "duration": 84.852013,
   "end_time": "2024-08-23T11:58:10.853585",
   "environment_variables": {},
   "exception": null,
   "input_path": "__notebook__.ipynb",
   "output_path": "__notebook__.ipynb",
   "parameters": {},
   "start_time": "2024-08-23T11:56:46.001572",
   "version": "2.5.0"
  }
 },
 "nbformat": 4,
 "nbformat_minor": 5
}
